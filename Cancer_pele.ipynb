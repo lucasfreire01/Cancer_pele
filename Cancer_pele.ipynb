{
  "nbformat": 4,
  "nbformat_minor": 0,
  "metadata": {
    "colab": {
      "provenance": [],
      "mount_file_id": "1x3XV3gpDnIkxUYoEjTKZPYWtcnR2Ttj8",
      "authorship_tag": "ABX9TyNvOq52nqt0zOZEHNDVIB29",
      "include_colab_link": true
    },
    "kernelspec": {
      "name": "python3",
      "display_name": "Python 3"
    },
    "language_info": {
      "name": "python"
    }
  },
  "cells": [
    {
      "cell_type": "markdown",
      "metadata": {
        "id": "view-in-github",
        "colab_type": "text"
      },
      "source": [
        "<a href=\"https://colab.research.google.com/github/lucasfreire01/Cancer_pele/blob/main/Cancer_pele.ipynb\" target=\"_parent\"><img src=\"https://colab.research.google.com/assets/colab-badge.svg\" alt=\"Open In Colab\"/></a>"
      ]
    },
    {
      "cell_type": "code",
      "source": [
        "!pip install cloudpathlib"
      ],
      "metadata": {
        "colab": {
          "base_uri": "https://localhost:8080/"
        },
        "id": "0o2K1l3GnhGI",
        "outputId": "f592c8b7-86d3-41b8-b211-5cc4b16897b4"
      },
      "execution_count": 19,
      "outputs": [
        {
          "output_type": "stream",
          "name": "stdout",
          "text": [
            "Looking in indexes: https://pypi.org/simple, https://us-python.pkg.dev/colab-wheels/public/simple/\n",
            "Requirement already satisfied: cloudpathlib in /usr/local/lib/python3.9/dist-packages (0.13.0)\n"
          ]
        }
      ]
    },
    {
      "cell_type": "code",
      "source": [
        "!pip install pyvips"
      ],
      "metadata": {
        "colab": {
          "base_uri": "https://localhost:8080/"
        },
        "id": "1E2hYqBDrUyR",
        "outputId": "5c898e33-99d5-40f2-fbf6-ba826fa2bb00"
      },
      "execution_count": 20,
      "outputs": [
        {
          "output_type": "stream",
          "name": "stdout",
          "text": [
            "Looking in indexes: https://pypi.org/simple, https://us-python.pkg.dev/colab-wheels/public/simple/\n",
            "Requirement already satisfied: pyvips in /usr/local/lib/python3.9/dist-packages (2.2.1)\n",
            "Requirement already satisfied: cffi>=1.0.0 in /usr/local/lib/python3.9/dist-packages (from pyvips) (1.15.1)\n",
            "Requirement already satisfied: pycparser in /usr/local/lib/python3.9/dist-packages (from cffi>=1.0.0->pyvips) (2.21)\n"
          ]
        }
      ]
    },
    {
      "cell_type": "code",
      "source": [
        "!apt list libvips"
      ],
      "metadata": {
        "colab": {
          "base_uri": "https://localhost:8080/"
        },
        "id": "hy41CzQnvhZR",
        "outputId": "ab6ab07b-4bd3-4306-e992-422360957598"
      },
      "execution_count": 21,
      "outputs": [
        {
          "output_type": "stream",
          "name": "stdout",
          "text": [
            "\rListing... 0%\r\rListing... 0%\r\rListing... 0%\r\rListing... Done\r\n"
          ]
        }
      ]
    },
    {
      "cell_type": "code",
      "source": [
        "!pip install fsspec"
      ],
      "metadata": {
        "colab": {
          "base_uri": "https://localhost:8080/"
        },
        "id": "VuC64Brc0dzu",
        "outputId": "2becf632-d4b4-4d97-8256-071fc2883c21"
      },
      "execution_count": 22,
      "outputs": [
        {
          "output_type": "stream",
          "name": "stdout",
          "text": [
            "Looking in indexes: https://pypi.org/simple, https://us-python.pkg.dev/colab-wheels/public/simple/\n",
            "Requirement already satisfied: fsspec in /usr/local/lib/python3.9/dist-packages (2023.4.0)\n"
          ]
        }
      ]
    },
    {
      "cell_type": "code",
      "source": [
        "!apt install libvips"
      ],
      "metadata": {
        "colab": {
          "base_uri": "https://localhost:8080/"
        },
        "id": "aOL5tEx_3vPY",
        "outputId": "5b5fe2f3-5840-4d3c-fa7b-3435fbd715bb"
      },
      "execution_count": 23,
      "outputs": [
        {
          "output_type": "stream",
          "name": "stdout",
          "text": [
            "Reading package lists... Done\n",
            "Building dependency tree       \n",
            "Reading state information... Done\n",
            "Note, selecting 'libvips42' instead of 'libvips'\n",
            "libvips42 is already the newest version (8.9.1-2).\n",
            "0 upgraded, 0 newly installed, 0 to remove and 24 not upgraded.\n"
          ]
        }
      ]
    },
    {
      "cell_type": "code",
      "execution_count": 24,
      "metadata": {
        "id": "faXvVt_4jaAF"
      },
      "outputs": [],
      "source": [
        "import pandas as pd\n",
        "import numpy as np\n",
        "from cloudpathlib import S3Path\n",
        "import matplotlib.pyplot as plt\n",
        "import pyvips\n",
        "from PIL import Image"
      ]
    },
    {
      "cell_type": "code",
      "source": [
        "Image.MAX_IMAGE_PIXELS = None"
      ],
      "metadata": {
        "id": "5UFpECfr1t87"
      },
      "execution_count": 25,
      "outputs": []
    },
    {
      "cell_type": "code",
      "source": [
        "train = pd.read_csv('/content/drive/MyDrive/Cancer_pele/train_metadata_pPa7YD3.csv', index_col=\"filename\")\n",
        "train"
      ],
      "metadata": {
        "colab": {
          "base_uri": "https://localhost:8080/",
          "height": 1000
        },
        "id": "EZS6djhfkTvA",
        "outputId": "293cf89a-bcbb-4972-94d5-13c993c2556a"
      },
      "execution_count": 26,
      "outputs": [
        {
          "output_type": "execute_result",
          "data": {
            "text/plain": [
              "                  age  sex            body_site melanoma_history  breslow  \\\n",
              "filename                                                                    \n",
              "1u4lhlqb.tif  [32:34[    2                thigh              YES     <0.8   \n",
              "rqumqnfp.tif  [46:48[    1                trunc               NO  [1 : 2[   \n",
              "bu5xt1xm.tif  [64:66[    2                 face               NO     <0.8   \n",
              "dibvu7wk.tif  [62:64[    2              forearm              NaN  [2 : 4[   \n",
              "qsza4coh.tif  [90:92[    2                 face               NO  [1 : 2[   \n",
              "...               ...  ...                  ...              ...      ...   \n",
              "n7jd638y.tif  [68:70[    1            head/neck              NaN  [1 : 2[   \n",
              "8wg601oe.tif  [66:68[    1            head/neck              NaN     <0.8   \n",
              "1ejfd01b.tif  [80:82[    1                trunk              NaN      >=4   \n",
              "2ztrjp20.tif  [42:44[    2                trunk              NaN     <0.8   \n",
              "hpzk3x2s.tif  [56:58[    1  upper limb/shoulder              NaN     <0.8   \n",
              "\n",
              "             ulceration  resolution   tif_cksum    tif_size  \\\n",
              "filename                                                      \n",
              "1u4lhlqb.tif         NO    0.264384  3028450373   747151312   \n",
              "rqumqnfp.tif         NO    0.264384  1294832049   591027450   \n",
              "bu5xt1xm.tif         NO    0.264384   774102360   465947458   \n",
              "dibvu7wk.tif        YES    0.226490   515827065   568174704   \n",
              "qsza4coh.tif         NO    0.226490  1541795099  1042691978   \n",
              "...                 ...         ...         ...         ...   \n",
              "n7jd638y.tif         NO    0.250000  1949851255   136729436   \n",
              "8wg601oe.tif        NaN    0.250000  1344207528  1603484314   \n",
              "1ejfd01b.tif        YES    0.250000  4292211076  1423564688   \n",
              "2ztrjp20.tif        NaN    0.250000  2949914817   336489430   \n",
              "hpzk3x2s.tif         NO    0.250000   378439451   364897020   \n",
              "\n",
              "                                                     us_tif_url  \\\n",
              "filename                                                          \n",
              "1u4lhlqb.tif  s3://drivendata-competition-visiomel-public-us...   \n",
              "rqumqnfp.tif  s3://drivendata-competition-visiomel-public-us...   \n",
              "bu5xt1xm.tif  s3://drivendata-competition-visiomel-public-us...   \n",
              "dibvu7wk.tif  s3://drivendata-competition-visiomel-public-us...   \n",
              "qsza4coh.tif  s3://drivendata-competition-visiomel-public-us...   \n",
              "...                                                         ...   \n",
              "n7jd638y.tif  s3://drivendata-competition-visiomel-public-us...   \n",
              "8wg601oe.tif  s3://drivendata-competition-visiomel-public-us...   \n",
              "1ejfd01b.tif  s3://drivendata-competition-visiomel-public-us...   \n",
              "2ztrjp20.tif  s3://drivendata-competition-visiomel-public-us...   \n",
              "hpzk3x2s.tif  s3://drivendata-competition-visiomel-public-us...   \n",
              "\n",
              "                                                     eu_tif_url  \\\n",
              "filename                                                          \n",
              "1u4lhlqb.tif  s3://drivendata-competition-visiomel-public-eu...   \n",
              "rqumqnfp.tif  s3://drivendata-competition-visiomel-public-eu...   \n",
              "bu5xt1xm.tif  s3://drivendata-competition-visiomel-public-eu...   \n",
              "dibvu7wk.tif  s3://drivendata-competition-visiomel-public-eu...   \n",
              "qsza4coh.tif  s3://drivendata-competition-visiomel-public-eu...   \n",
              "...                                                         ...   \n",
              "n7jd638y.tif  s3://drivendata-competition-visiomel-public-eu...   \n",
              "8wg601oe.tif  s3://drivendata-competition-visiomel-public-eu...   \n",
              "1ejfd01b.tif  s3://drivendata-competition-visiomel-public-eu...   \n",
              "2ztrjp20.tif  s3://drivendata-competition-visiomel-public-eu...   \n",
              "hpzk3x2s.tif  s3://drivendata-competition-visiomel-public-eu...   \n",
              "\n",
              "                                                     as_tif_url  \n",
              "filename                                                         \n",
              "1u4lhlqb.tif  s3://drivendata-competition-visiomel-public-as...  \n",
              "rqumqnfp.tif  s3://drivendata-competition-visiomel-public-as...  \n",
              "bu5xt1xm.tif  s3://drivendata-competition-visiomel-public-as...  \n",
              "dibvu7wk.tif  s3://drivendata-competition-visiomel-public-as...  \n",
              "qsza4coh.tif  s3://drivendata-competition-visiomel-public-as...  \n",
              "...                                                         ...  \n",
              "n7jd638y.tif  s3://drivendata-competition-visiomel-public-as...  \n",
              "8wg601oe.tif  s3://drivendata-competition-visiomel-public-as...  \n",
              "1ejfd01b.tif  s3://drivendata-competition-visiomel-public-as...  \n",
              "2ztrjp20.tif  s3://drivendata-competition-visiomel-public-as...  \n",
              "hpzk3x2s.tif  s3://drivendata-competition-visiomel-public-as...  \n",
              "\n",
              "[1342 rows x 12 columns]"
            ],
            "text/html": [
              "\n",
              "  <div id=\"df-20362af6-4360-420e-98d9-5eb0f9a5850e\">\n",
              "    <div class=\"colab-df-container\">\n",
              "      <div>\n",
              "<style scoped>\n",
              "    .dataframe tbody tr th:only-of-type {\n",
              "        vertical-align: middle;\n",
              "    }\n",
              "\n",
              "    .dataframe tbody tr th {\n",
              "        vertical-align: top;\n",
              "    }\n",
              "\n",
              "    .dataframe thead th {\n",
              "        text-align: right;\n",
              "    }\n",
              "</style>\n",
              "<table border=\"1\" class=\"dataframe\">\n",
              "  <thead>\n",
              "    <tr style=\"text-align: right;\">\n",
              "      <th></th>\n",
              "      <th>age</th>\n",
              "      <th>sex</th>\n",
              "      <th>body_site</th>\n",
              "      <th>melanoma_history</th>\n",
              "      <th>breslow</th>\n",
              "      <th>ulceration</th>\n",
              "      <th>resolution</th>\n",
              "      <th>tif_cksum</th>\n",
              "      <th>tif_size</th>\n",
              "      <th>us_tif_url</th>\n",
              "      <th>eu_tif_url</th>\n",
              "      <th>as_tif_url</th>\n",
              "    </tr>\n",
              "    <tr>\n",
              "      <th>filename</th>\n",
              "      <th></th>\n",
              "      <th></th>\n",
              "      <th></th>\n",
              "      <th></th>\n",
              "      <th></th>\n",
              "      <th></th>\n",
              "      <th></th>\n",
              "      <th></th>\n",
              "      <th></th>\n",
              "      <th></th>\n",
              "      <th></th>\n",
              "      <th></th>\n",
              "    </tr>\n",
              "  </thead>\n",
              "  <tbody>\n",
              "    <tr>\n",
              "      <th>1u4lhlqb.tif</th>\n",
              "      <td>[32:34[</td>\n",
              "      <td>2</td>\n",
              "      <td>thigh</td>\n",
              "      <td>YES</td>\n",
              "      <td>&lt;0.8</td>\n",
              "      <td>NO</td>\n",
              "      <td>0.264384</td>\n",
              "      <td>3028450373</td>\n",
              "      <td>747151312</td>\n",
              "      <td>s3://drivendata-competition-visiomel-public-us...</td>\n",
              "      <td>s3://drivendata-competition-visiomel-public-eu...</td>\n",
              "      <td>s3://drivendata-competition-visiomel-public-as...</td>\n",
              "    </tr>\n",
              "    <tr>\n",
              "      <th>rqumqnfp.tif</th>\n",
              "      <td>[46:48[</td>\n",
              "      <td>1</td>\n",
              "      <td>trunc</td>\n",
              "      <td>NO</td>\n",
              "      <td>[1 : 2[</td>\n",
              "      <td>NO</td>\n",
              "      <td>0.264384</td>\n",
              "      <td>1294832049</td>\n",
              "      <td>591027450</td>\n",
              "      <td>s3://drivendata-competition-visiomel-public-us...</td>\n",
              "      <td>s3://drivendata-competition-visiomel-public-eu...</td>\n",
              "      <td>s3://drivendata-competition-visiomel-public-as...</td>\n",
              "    </tr>\n",
              "    <tr>\n",
              "      <th>bu5xt1xm.tif</th>\n",
              "      <td>[64:66[</td>\n",
              "      <td>2</td>\n",
              "      <td>face</td>\n",
              "      <td>NO</td>\n",
              "      <td>&lt;0.8</td>\n",
              "      <td>NO</td>\n",
              "      <td>0.264384</td>\n",
              "      <td>774102360</td>\n",
              "      <td>465947458</td>\n",
              "      <td>s3://drivendata-competition-visiomel-public-us...</td>\n",
              "      <td>s3://drivendata-competition-visiomel-public-eu...</td>\n",
              "      <td>s3://drivendata-competition-visiomel-public-as...</td>\n",
              "    </tr>\n",
              "    <tr>\n",
              "      <th>dibvu7wk.tif</th>\n",
              "      <td>[62:64[</td>\n",
              "      <td>2</td>\n",
              "      <td>forearm</td>\n",
              "      <td>NaN</td>\n",
              "      <td>[2 : 4[</td>\n",
              "      <td>YES</td>\n",
              "      <td>0.226490</td>\n",
              "      <td>515827065</td>\n",
              "      <td>568174704</td>\n",
              "      <td>s3://drivendata-competition-visiomel-public-us...</td>\n",
              "      <td>s3://drivendata-competition-visiomel-public-eu...</td>\n",
              "      <td>s3://drivendata-competition-visiomel-public-as...</td>\n",
              "    </tr>\n",
              "    <tr>\n",
              "      <th>qsza4coh.tif</th>\n",
              "      <td>[90:92[</td>\n",
              "      <td>2</td>\n",
              "      <td>face</td>\n",
              "      <td>NO</td>\n",
              "      <td>[1 : 2[</td>\n",
              "      <td>NO</td>\n",
              "      <td>0.226490</td>\n",
              "      <td>1541795099</td>\n",
              "      <td>1042691978</td>\n",
              "      <td>s3://drivendata-competition-visiomel-public-us...</td>\n",
              "      <td>s3://drivendata-competition-visiomel-public-eu...</td>\n",
              "      <td>s3://drivendata-competition-visiomel-public-as...</td>\n",
              "    </tr>\n",
              "    <tr>\n",
              "      <th>...</th>\n",
              "      <td>...</td>\n",
              "      <td>...</td>\n",
              "      <td>...</td>\n",
              "      <td>...</td>\n",
              "      <td>...</td>\n",
              "      <td>...</td>\n",
              "      <td>...</td>\n",
              "      <td>...</td>\n",
              "      <td>...</td>\n",
              "      <td>...</td>\n",
              "      <td>...</td>\n",
              "      <td>...</td>\n",
              "    </tr>\n",
              "    <tr>\n",
              "      <th>n7jd638y.tif</th>\n",
              "      <td>[68:70[</td>\n",
              "      <td>1</td>\n",
              "      <td>head/neck</td>\n",
              "      <td>NaN</td>\n",
              "      <td>[1 : 2[</td>\n",
              "      <td>NO</td>\n",
              "      <td>0.250000</td>\n",
              "      <td>1949851255</td>\n",
              "      <td>136729436</td>\n",
              "      <td>s3://drivendata-competition-visiomel-public-us...</td>\n",
              "      <td>s3://drivendata-competition-visiomel-public-eu...</td>\n",
              "      <td>s3://drivendata-competition-visiomel-public-as...</td>\n",
              "    </tr>\n",
              "    <tr>\n",
              "      <th>8wg601oe.tif</th>\n",
              "      <td>[66:68[</td>\n",
              "      <td>1</td>\n",
              "      <td>head/neck</td>\n",
              "      <td>NaN</td>\n",
              "      <td>&lt;0.8</td>\n",
              "      <td>NaN</td>\n",
              "      <td>0.250000</td>\n",
              "      <td>1344207528</td>\n",
              "      <td>1603484314</td>\n",
              "      <td>s3://drivendata-competition-visiomel-public-us...</td>\n",
              "      <td>s3://drivendata-competition-visiomel-public-eu...</td>\n",
              "      <td>s3://drivendata-competition-visiomel-public-as...</td>\n",
              "    </tr>\n",
              "    <tr>\n",
              "      <th>1ejfd01b.tif</th>\n",
              "      <td>[80:82[</td>\n",
              "      <td>1</td>\n",
              "      <td>trunk</td>\n",
              "      <td>NaN</td>\n",
              "      <td>&gt;=4</td>\n",
              "      <td>YES</td>\n",
              "      <td>0.250000</td>\n",
              "      <td>4292211076</td>\n",
              "      <td>1423564688</td>\n",
              "      <td>s3://drivendata-competition-visiomel-public-us...</td>\n",
              "      <td>s3://drivendata-competition-visiomel-public-eu...</td>\n",
              "      <td>s3://drivendata-competition-visiomel-public-as...</td>\n",
              "    </tr>\n",
              "    <tr>\n",
              "      <th>2ztrjp20.tif</th>\n",
              "      <td>[42:44[</td>\n",
              "      <td>2</td>\n",
              "      <td>trunk</td>\n",
              "      <td>NaN</td>\n",
              "      <td>&lt;0.8</td>\n",
              "      <td>NaN</td>\n",
              "      <td>0.250000</td>\n",
              "      <td>2949914817</td>\n",
              "      <td>336489430</td>\n",
              "      <td>s3://drivendata-competition-visiomel-public-us...</td>\n",
              "      <td>s3://drivendata-competition-visiomel-public-eu...</td>\n",
              "      <td>s3://drivendata-competition-visiomel-public-as...</td>\n",
              "    </tr>\n",
              "    <tr>\n",
              "      <th>hpzk3x2s.tif</th>\n",
              "      <td>[56:58[</td>\n",
              "      <td>1</td>\n",
              "      <td>upper limb/shoulder</td>\n",
              "      <td>NaN</td>\n",
              "      <td>&lt;0.8</td>\n",
              "      <td>NO</td>\n",
              "      <td>0.250000</td>\n",
              "      <td>378439451</td>\n",
              "      <td>364897020</td>\n",
              "      <td>s3://drivendata-competition-visiomel-public-us...</td>\n",
              "      <td>s3://drivendata-competition-visiomel-public-eu...</td>\n",
              "      <td>s3://drivendata-competition-visiomel-public-as...</td>\n",
              "    </tr>\n",
              "  </tbody>\n",
              "</table>\n",
              "<p>1342 rows × 12 columns</p>\n",
              "</div>\n",
              "      <button class=\"colab-df-convert\" onclick=\"convertToInteractive('df-20362af6-4360-420e-98d9-5eb0f9a5850e')\"\n",
              "              title=\"Convert this dataframe to an interactive table.\"\n",
              "              style=\"display:none;\">\n",
              "        \n",
              "  <svg xmlns=\"http://www.w3.org/2000/svg\" height=\"24px\"viewBox=\"0 0 24 24\"\n",
              "       width=\"24px\">\n",
              "    <path d=\"M0 0h24v24H0V0z\" fill=\"none\"/>\n",
              "    <path d=\"M18.56 5.44l.94 2.06.94-2.06 2.06-.94-2.06-.94-.94-2.06-.94 2.06-2.06.94zm-11 1L8.5 8.5l.94-2.06 2.06-.94-2.06-.94L8.5 2.5l-.94 2.06-2.06.94zm10 10l.94 2.06.94-2.06 2.06-.94-2.06-.94-.94-2.06-.94 2.06-2.06.94z\"/><path d=\"M17.41 7.96l-1.37-1.37c-.4-.4-.92-.59-1.43-.59-.52 0-1.04.2-1.43.59L10.3 9.45l-7.72 7.72c-.78.78-.78 2.05 0 2.83L4 21.41c.39.39.9.59 1.41.59.51 0 1.02-.2 1.41-.59l7.78-7.78 2.81-2.81c.8-.78.8-2.07 0-2.86zM5.41 20L4 18.59l7.72-7.72 1.47 1.35L5.41 20z\"/>\n",
              "  </svg>\n",
              "      </button>\n",
              "      \n",
              "  <style>\n",
              "    .colab-df-container {\n",
              "      display:flex;\n",
              "      flex-wrap:wrap;\n",
              "      gap: 12px;\n",
              "    }\n",
              "\n",
              "    .colab-df-convert {\n",
              "      background-color: #E8F0FE;\n",
              "      border: none;\n",
              "      border-radius: 50%;\n",
              "      cursor: pointer;\n",
              "      display: none;\n",
              "      fill: #1967D2;\n",
              "      height: 32px;\n",
              "      padding: 0 0 0 0;\n",
              "      width: 32px;\n",
              "    }\n",
              "\n",
              "    .colab-df-convert:hover {\n",
              "      background-color: #E2EBFA;\n",
              "      box-shadow: 0px 1px 2px rgba(60, 64, 67, 0.3), 0px 1px 3px 1px rgba(60, 64, 67, 0.15);\n",
              "      fill: #174EA6;\n",
              "    }\n",
              "\n",
              "    [theme=dark] .colab-df-convert {\n",
              "      background-color: #3B4455;\n",
              "      fill: #D2E3FC;\n",
              "    }\n",
              "\n",
              "    [theme=dark] .colab-df-convert:hover {\n",
              "      background-color: #434B5C;\n",
              "      box-shadow: 0px 1px 3px 1px rgba(0, 0, 0, 0.15);\n",
              "      filter: drop-shadow(0px 1px 2px rgba(0, 0, 0, 0.3));\n",
              "      fill: #FFFFFF;\n",
              "    }\n",
              "  </style>\n",
              "\n",
              "      <script>\n",
              "        const buttonEl =\n",
              "          document.querySelector('#df-20362af6-4360-420e-98d9-5eb0f9a5850e button.colab-df-convert');\n",
              "        buttonEl.style.display =\n",
              "          google.colab.kernel.accessAllowed ? 'block' : 'none';\n",
              "\n",
              "        async function convertToInteractive(key) {\n",
              "          const element = document.querySelector('#df-20362af6-4360-420e-98d9-5eb0f9a5850e');\n",
              "          const dataTable =\n",
              "            await google.colab.kernel.invokeFunction('convertToInteractive',\n",
              "                                                     [key], {});\n",
              "          if (!dataTable) return;\n",
              "\n",
              "          const docLinkHtml = 'Like what you see? Visit the ' +\n",
              "            '<a target=\"_blank\" href=https://colab.research.google.com/notebooks/data_table.ipynb>data table notebook</a>'\n",
              "            + ' to learn more about interactive tables.';\n",
              "          element.innerHTML = '';\n",
              "          dataTable['output_type'] = 'display_data';\n",
              "          await google.colab.output.renderOutput(dataTable, element);\n",
              "          const docLink = document.createElement('div');\n",
              "          docLink.innerHTML = docLinkHtml;\n",
              "          element.appendChild(docLink);\n",
              "        }\n",
              "      </script>\n",
              "    </div>\n",
              "  </div>\n",
              "  "
            ]
          },
          "metadata": {},
          "execution_count": 26
        }
      ]
    },
    {
      "cell_type": "code",
      "source": [
        "train_labels = pd.read_csv('/content/drive/MyDrive/Cancer_pele/train_labels.csv', index_col=\"filename\")\n",
        "train_labels"
      ],
      "metadata": {
        "colab": {
          "base_uri": "https://localhost:8080/",
          "height": 455
        },
        "id": "z8TLV4zVk35z",
        "outputId": "cbd43595-10c5-4d1d-fdc5-812ea760ca07"
      },
      "execution_count": 27,
      "outputs": [
        {
          "output_type": "execute_result",
          "data": {
            "text/plain": [
              "              relapse\n",
              "filename             \n",
              "1u4lhlqb.tif        0\n",
              "rqumqnfp.tif        0\n",
              "bu5xt1xm.tif        0\n",
              "dibvu7wk.tif        0\n",
              "qsza4coh.tif        0\n",
              "...               ...\n",
              "n7jd638y.tif        0\n",
              "8wg601oe.tif        0\n",
              "1ejfd01b.tif        0\n",
              "2ztrjp20.tif        0\n",
              "hpzk3x2s.tif        0\n",
              "\n",
              "[1342 rows x 1 columns]"
            ],
            "text/html": [
              "\n",
              "  <div id=\"df-a33a9919-3cb5-478b-a5d1-e854a3dc6673\">\n",
              "    <div class=\"colab-df-container\">\n",
              "      <div>\n",
              "<style scoped>\n",
              "    .dataframe tbody tr th:only-of-type {\n",
              "        vertical-align: middle;\n",
              "    }\n",
              "\n",
              "    .dataframe tbody tr th {\n",
              "        vertical-align: top;\n",
              "    }\n",
              "\n",
              "    .dataframe thead th {\n",
              "        text-align: right;\n",
              "    }\n",
              "</style>\n",
              "<table border=\"1\" class=\"dataframe\">\n",
              "  <thead>\n",
              "    <tr style=\"text-align: right;\">\n",
              "      <th></th>\n",
              "      <th>relapse</th>\n",
              "    </tr>\n",
              "    <tr>\n",
              "      <th>filename</th>\n",
              "      <th></th>\n",
              "    </tr>\n",
              "  </thead>\n",
              "  <tbody>\n",
              "    <tr>\n",
              "      <th>1u4lhlqb.tif</th>\n",
              "      <td>0</td>\n",
              "    </tr>\n",
              "    <tr>\n",
              "      <th>rqumqnfp.tif</th>\n",
              "      <td>0</td>\n",
              "    </tr>\n",
              "    <tr>\n",
              "      <th>bu5xt1xm.tif</th>\n",
              "      <td>0</td>\n",
              "    </tr>\n",
              "    <tr>\n",
              "      <th>dibvu7wk.tif</th>\n",
              "      <td>0</td>\n",
              "    </tr>\n",
              "    <tr>\n",
              "      <th>qsza4coh.tif</th>\n",
              "      <td>0</td>\n",
              "    </tr>\n",
              "    <tr>\n",
              "      <th>...</th>\n",
              "      <td>...</td>\n",
              "    </tr>\n",
              "    <tr>\n",
              "      <th>n7jd638y.tif</th>\n",
              "      <td>0</td>\n",
              "    </tr>\n",
              "    <tr>\n",
              "      <th>8wg601oe.tif</th>\n",
              "      <td>0</td>\n",
              "    </tr>\n",
              "    <tr>\n",
              "      <th>1ejfd01b.tif</th>\n",
              "      <td>0</td>\n",
              "    </tr>\n",
              "    <tr>\n",
              "      <th>2ztrjp20.tif</th>\n",
              "      <td>0</td>\n",
              "    </tr>\n",
              "    <tr>\n",
              "      <th>hpzk3x2s.tif</th>\n",
              "      <td>0</td>\n",
              "    </tr>\n",
              "  </tbody>\n",
              "</table>\n",
              "<p>1342 rows × 1 columns</p>\n",
              "</div>\n",
              "      <button class=\"colab-df-convert\" onclick=\"convertToInteractive('df-a33a9919-3cb5-478b-a5d1-e854a3dc6673')\"\n",
              "              title=\"Convert this dataframe to an interactive table.\"\n",
              "              style=\"display:none;\">\n",
              "        \n",
              "  <svg xmlns=\"http://www.w3.org/2000/svg\" height=\"24px\"viewBox=\"0 0 24 24\"\n",
              "       width=\"24px\">\n",
              "    <path d=\"M0 0h24v24H0V0z\" fill=\"none\"/>\n",
              "    <path d=\"M18.56 5.44l.94 2.06.94-2.06 2.06-.94-2.06-.94-.94-2.06-.94 2.06-2.06.94zm-11 1L8.5 8.5l.94-2.06 2.06-.94-2.06-.94L8.5 2.5l-.94 2.06-2.06.94zm10 10l.94 2.06.94-2.06 2.06-.94-2.06-.94-.94-2.06-.94 2.06-2.06.94z\"/><path d=\"M17.41 7.96l-1.37-1.37c-.4-.4-.92-.59-1.43-.59-.52 0-1.04.2-1.43.59L10.3 9.45l-7.72 7.72c-.78.78-.78 2.05 0 2.83L4 21.41c.39.39.9.59 1.41.59.51 0 1.02-.2 1.41-.59l7.78-7.78 2.81-2.81c.8-.78.8-2.07 0-2.86zM5.41 20L4 18.59l7.72-7.72 1.47 1.35L5.41 20z\"/>\n",
              "  </svg>\n",
              "      </button>\n",
              "      \n",
              "  <style>\n",
              "    .colab-df-container {\n",
              "      display:flex;\n",
              "      flex-wrap:wrap;\n",
              "      gap: 12px;\n",
              "    }\n",
              "\n",
              "    .colab-df-convert {\n",
              "      background-color: #E8F0FE;\n",
              "      border: none;\n",
              "      border-radius: 50%;\n",
              "      cursor: pointer;\n",
              "      display: none;\n",
              "      fill: #1967D2;\n",
              "      height: 32px;\n",
              "      padding: 0 0 0 0;\n",
              "      width: 32px;\n",
              "    }\n",
              "\n",
              "    .colab-df-convert:hover {\n",
              "      background-color: #E2EBFA;\n",
              "      box-shadow: 0px 1px 2px rgba(60, 64, 67, 0.3), 0px 1px 3px 1px rgba(60, 64, 67, 0.15);\n",
              "      fill: #174EA6;\n",
              "    }\n",
              "\n",
              "    [theme=dark] .colab-df-convert {\n",
              "      background-color: #3B4455;\n",
              "      fill: #D2E3FC;\n",
              "    }\n",
              "\n",
              "    [theme=dark] .colab-df-convert:hover {\n",
              "      background-color: #434B5C;\n",
              "      box-shadow: 0px 1px 3px 1px rgba(0, 0, 0, 0.15);\n",
              "      filter: drop-shadow(0px 1px 2px rgba(0, 0, 0, 0.3));\n",
              "      fill: #FFFFFF;\n",
              "    }\n",
              "  </style>\n",
              "\n",
              "      <script>\n",
              "        const buttonEl =\n",
              "          document.querySelector('#df-a33a9919-3cb5-478b-a5d1-e854a3dc6673 button.colab-df-convert');\n",
              "        buttonEl.style.display =\n",
              "          google.colab.kernel.accessAllowed ? 'block' : 'none';\n",
              "\n",
              "        async function convertToInteractive(key) {\n",
              "          const element = document.querySelector('#df-a33a9919-3cb5-478b-a5d1-e854a3dc6673');\n",
              "          const dataTable =\n",
              "            await google.colab.kernel.invokeFunction('convertToInteractive',\n",
              "                                                     [key], {});\n",
              "          if (!dataTable) return;\n",
              "\n",
              "          const docLinkHtml = 'Like what you see? Visit the ' +\n",
              "            '<a target=\"_blank\" href=https://colab.research.google.com/notebooks/data_table.ipynb>data table notebook</a>'\n",
              "            + ' to learn more about interactive tables.';\n",
              "          element.innerHTML = '';\n",
              "          dataTable['output_type'] = 'display_data';\n",
              "          await google.colab.output.renderOutput(dataTable, element);\n",
              "          const docLink = document.createElement('div');\n",
              "          docLink.innerHTML = docLinkHtml;\n",
              "          element.appendChild(docLink);\n",
              "        }\n",
              "      </script>\n",
              "    </div>\n",
              "  </div>\n",
              "  "
            ]
          },
          "metadata": {},
          "execution_count": 27
        }
      ]
    },
    {
      "cell_type": "code",
      "source": [
        "train_labels.relapse.value_counts(dropna=False)"
      ],
      "metadata": {
        "colab": {
          "base_uri": "https://localhost:8080/"
        },
        "id": "eZ7FHUje5DDs",
        "outputId": "a77f8cf3-1fc8-4eca-a064-e23577115c8b"
      },
      "execution_count": 28,
      "outputs": [
        {
          "output_type": "execute_result",
          "data": {
            "text/plain": [
              "0    1129\n",
              "1     213\n",
              "Name: relapse, dtype: int64"
            ]
          },
          "metadata": {},
          "execution_count": 28
        }
      ]
    },
    {
      "cell_type": "code",
      "source": [
        "SEED = 42\n",
        "NUM_IMAGES = 3\n",
        "selected_image_paths = train.sample(\n",
        "    random_state=SEED, n=NUM_IMAGES\n",
        ").us_tif_url.values"
      ],
      "metadata": {
        "id": "-Uc50xSnli9n"
      },
      "execution_count": 29,
      "outputs": []
    },
    {
      "cell_type": "code",
      "source": [
        "def visualize_page(page_num, image_paths):\n",
        "    fig, axes = plt.subplots(1, len(image_paths), figsize=(10, 10))\n",
        "    fig.tight_layout()\n",
        "\n",
        "    for n, image_s3_path in enumerate(image_paths):\n",
        "        fname = S3Path(image_s3_path).name\n",
        "        print(f\"Downloading {fname}\")\n",
        "        local_file = S3Path(image_s3_path).fspath\n",
        "\n",
        "        n_frames = Image.open(local_file).n_frames\n",
        "        img = pyvips.Image.new_from_file(local_file, page=page_num).numpy()\n",
        "\n",
        "        axes[n].set_title(f\"{fname}, page={page_num}\\n {img.shape}\\n\")\n",
        "        axes[n].imshow(img)"
      ],
      "metadata": {
        "id": "3PgNM2CWnuOJ"
      },
      "execution_count": 30,
      "outputs": []
    },
    {
      "cell_type": "code",
      "source": [
        "visualize_page(3, selected_image_paths)"
      ],
      "metadata": {
        "colab": {
          "base_uri": "https://localhost:8080/",
          "height": 1000
        },
        "id": "4VcBfebaxwJr",
        "outputId": "a9648603-4487-4d5a-c1f9-cbc7f2413a7b"
      },
      "execution_count": 31,
      "outputs": [
        {
          "output_type": "error",
          "ename": "MissingDependenciesError",
          "evalue": "ignored",
          "traceback": [
            "\u001b[0;31m---------------------------------------------------------------------------\u001b[0m",
            "\u001b[0;31mMissingDependenciesError\u001b[0m                  Traceback (most recent call last)",
            "\u001b[0;32m<ipython-input-31-a1e1a9a9ae84>\u001b[0m in \u001b[0;36m<cell line: 1>\u001b[0;34m()\u001b[0m\n\u001b[0;32m----> 1\u001b[0;31m \u001b[0mvisualize_page\u001b[0m\u001b[0;34m(\u001b[0m\u001b[0;36m3\u001b[0m\u001b[0;34m,\u001b[0m \u001b[0mselected_image_paths\u001b[0m\u001b[0;34m)\u001b[0m\u001b[0;34m\u001b[0m\u001b[0;34m\u001b[0m\u001b[0m\n\u001b[0m",
            "\u001b[0;32m<ipython-input-30-59ae38a6f84d>\u001b[0m in \u001b[0;36mvisualize_page\u001b[0;34m(page_num, image_paths)\u001b[0m\n\u001b[1;32m      4\u001b[0m \u001b[0;34m\u001b[0m\u001b[0m\n\u001b[1;32m      5\u001b[0m     \u001b[0;32mfor\u001b[0m \u001b[0mn\u001b[0m\u001b[0;34m,\u001b[0m \u001b[0mimage_s3_path\u001b[0m \u001b[0;32min\u001b[0m \u001b[0menumerate\u001b[0m\u001b[0;34m(\u001b[0m\u001b[0mimage_paths\u001b[0m\u001b[0;34m)\u001b[0m\u001b[0;34m:\u001b[0m\u001b[0;34m\u001b[0m\u001b[0;34m\u001b[0m\u001b[0m\n\u001b[0;32m----> 6\u001b[0;31m         \u001b[0mfname\u001b[0m \u001b[0;34m=\u001b[0m \u001b[0mS3Path\u001b[0m\u001b[0;34m(\u001b[0m\u001b[0mimage_s3_path\u001b[0m\u001b[0;34m)\u001b[0m\u001b[0;34m.\u001b[0m\u001b[0mname\u001b[0m\u001b[0;34m\u001b[0m\u001b[0;34m\u001b[0m\u001b[0m\n\u001b[0m\u001b[1;32m      7\u001b[0m         \u001b[0mprint\u001b[0m\u001b[0;34m(\u001b[0m\u001b[0;34mf\"Downloading {fname}\"\u001b[0m\u001b[0;34m)\u001b[0m\u001b[0;34m\u001b[0m\u001b[0;34m\u001b[0m\u001b[0m\n\u001b[1;32m      8\u001b[0m         \u001b[0mlocal_file\u001b[0m \u001b[0;34m=\u001b[0m \u001b[0mS3Path\u001b[0m\u001b[0;34m(\u001b[0m\u001b[0mimage_s3_path\u001b[0m\u001b[0;34m)\u001b[0m\u001b[0;34m.\u001b[0m\u001b[0mfspath\u001b[0m\u001b[0;34m\u001b[0m\u001b[0;34m\u001b[0m\u001b[0m\n",
            "\u001b[0;32m/usr/local/lib/python3.9/dist-packages/cloudpathlib/cloudpath.py\u001b[0m in \u001b[0;36m__call__\u001b[0;34m(cls, cloud_path, *args, **kwargs)\u001b[0m\n\u001b[1;32m    134\u001b[0m         \u001b[0mnew_obj\u001b[0m \u001b[0;34m=\u001b[0m \u001b[0mcls\u001b[0m\u001b[0;34m.\u001b[0m\u001b[0m__new__\u001b[0m\u001b[0;34m(\u001b[0m\u001b[0mcls\u001b[0m\u001b[0;34m,\u001b[0m \u001b[0mcloud_path\u001b[0m\u001b[0;34m,\u001b[0m \u001b[0;34m*\u001b[0m\u001b[0margs\u001b[0m\u001b[0;34m,\u001b[0m \u001b[0;34m**\u001b[0m\u001b[0mkwargs\u001b[0m\u001b[0;34m)\u001b[0m\u001b[0;34m\u001b[0m\u001b[0;34m\u001b[0m\u001b[0m\n\u001b[1;32m    135\u001b[0m         \u001b[0;32mif\u001b[0m \u001b[0misinstance\u001b[0m\u001b[0;34m(\u001b[0m\u001b[0mnew_obj\u001b[0m\u001b[0;34m,\u001b[0m \u001b[0mcls\u001b[0m\u001b[0;34m)\u001b[0m\u001b[0;34m:\u001b[0m\u001b[0;34m\u001b[0m\u001b[0;34m\u001b[0m\u001b[0m\n\u001b[0;32m--> 136\u001b[0;31m             \u001b[0mcls\u001b[0m\u001b[0;34m.\u001b[0m\u001b[0m__init__\u001b[0m\u001b[0;34m(\u001b[0m\u001b[0mnew_obj\u001b[0m\u001b[0;34m,\u001b[0m \u001b[0mcloud_path\u001b[0m\u001b[0;34m,\u001b[0m \u001b[0;34m*\u001b[0m\u001b[0margs\u001b[0m\u001b[0;34m,\u001b[0m \u001b[0;34m**\u001b[0m\u001b[0mkwargs\u001b[0m\u001b[0;34m)\u001b[0m\u001b[0;34m\u001b[0m\u001b[0;34m\u001b[0m\u001b[0m\n\u001b[0m\u001b[1;32m    137\u001b[0m         \u001b[0;32mreturn\u001b[0m \u001b[0mnew_obj\u001b[0m\u001b[0;34m\u001b[0m\u001b[0;34m\u001b[0m\u001b[0m\n\u001b[1;32m    138\u001b[0m \u001b[0;34m\u001b[0m\u001b[0m\n",
            "\u001b[0;32m/usr/local/lib/python3.9/dist-packages/cloudpathlib/cloudpath.py\u001b[0m in \u001b[0;36m__init__\u001b[0;34m(self, cloud_path, client)\u001b[0m\n\u001b[1;32m    196\u001b[0m                 \u001b[0mclient\u001b[0m \u001b[0;34m=\u001b[0m \u001b[0mcloud_path\u001b[0m\u001b[0;34m.\u001b[0m\u001b[0mclient\u001b[0m\u001b[0;34m\u001b[0m\u001b[0;34m\u001b[0m\u001b[0m\n\u001b[1;32m    197\u001b[0m             \u001b[0;32melse\u001b[0m\u001b[0;34m:\u001b[0m\u001b[0;34m\u001b[0m\u001b[0;34m\u001b[0m\u001b[0m\n\u001b[0;32m--> 198\u001b[0;31m                 \u001b[0mclient\u001b[0m \u001b[0;34m=\u001b[0m \u001b[0mself\u001b[0m\u001b[0;34m.\u001b[0m\u001b[0m_cloud_meta\u001b[0m\u001b[0;34m.\u001b[0m\u001b[0mclient_class\u001b[0m\u001b[0;34m.\u001b[0m\u001b[0mget_default_client\u001b[0m\u001b[0;34m(\u001b[0m\u001b[0;34m)\u001b[0m\u001b[0;34m\u001b[0m\u001b[0;34m\u001b[0m\u001b[0m\n\u001b[0m\u001b[1;32m    199\u001b[0m         \u001b[0;32mif\u001b[0m \u001b[0;32mnot\u001b[0m \u001b[0misinstance\u001b[0m\u001b[0;34m(\u001b[0m\u001b[0mclient\u001b[0m\u001b[0;34m,\u001b[0m \u001b[0mself\u001b[0m\u001b[0;34m.\u001b[0m\u001b[0m_cloud_meta\u001b[0m\u001b[0;34m.\u001b[0m\u001b[0mclient_class\u001b[0m\u001b[0;34m)\u001b[0m\u001b[0;34m:\u001b[0m\u001b[0;34m\u001b[0m\u001b[0;34m\u001b[0m\u001b[0m\n\u001b[1;32m    200\u001b[0m             raise ClientMismatchError(\n",
            "\u001b[0;32m/usr/local/lib/python3.9/dist-packages/cloudpathlib/cloudpath.py\u001b[0m in \u001b[0;36mclient_class\u001b[0;34m(self)\u001b[0m\n\u001b[1;32m     81\u001b[0m     \u001b[0;34m@\u001b[0m\u001b[0mproperty\u001b[0m\u001b[0;34m\u001b[0m\u001b[0;34m\u001b[0m\u001b[0m\n\u001b[1;32m     82\u001b[0m     \u001b[0;32mdef\u001b[0m \u001b[0mclient_class\u001b[0m\u001b[0;34m(\u001b[0m\u001b[0mself\u001b[0m\u001b[0;34m)\u001b[0m \u001b[0;34m->\u001b[0m \u001b[0mType\u001b[0m\u001b[0;34m[\u001b[0m\u001b[0;34m\"Client\"\u001b[0m\u001b[0;34m]\u001b[0m\u001b[0;34m:\u001b[0m\u001b[0;34m\u001b[0m\u001b[0;34m\u001b[0m\u001b[0m\n\u001b[0;32m---> 83\u001b[0;31m         \u001b[0mself\u001b[0m\u001b[0;34m.\u001b[0m\u001b[0mvalidate_completeness\u001b[0m\u001b[0;34m(\u001b[0m\u001b[0;34m)\u001b[0m\u001b[0;34m\u001b[0m\u001b[0;34m\u001b[0m\u001b[0m\n\u001b[0m\u001b[1;32m     84\u001b[0m         \u001b[0;32mreturn\u001b[0m \u001b[0mself\u001b[0m\u001b[0;34m.\u001b[0m\u001b[0m_client_class\u001b[0m\u001b[0;34m\u001b[0m\u001b[0;34m\u001b[0m\u001b[0m\n\u001b[1;32m     85\u001b[0m \u001b[0;34m\u001b[0m\u001b[0m\n",
            "\u001b[0;32m/usr/local/lib/python3.9/dist-packages/cloudpathlib/cloudpath.py\u001b[0m in \u001b[0;36mvalidate_completeness\u001b[0;34m(self)\u001b[0m\n\u001b[1;32m     74\u001b[0m             )\n\u001b[1;32m     75\u001b[0m         \u001b[0;32mif\u001b[0m \u001b[0;32mnot\u001b[0m \u001b[0mself\u001b[0m\u001b[0;34m.\u001b[0m\u001b[0mdependencies_loaded\u001b[0m\u001b[0;34m:\u001b[0m\u001b[0;34m\u001b[0m\u001b[0;34m\u001b[0m\u001b[0m\n\u001b[0;32m---> 76\u001b[0;31m             raise MissingDependenciesError(\n\u001b[0m\u001b[1;32m     77\u001b[0m                 \u001b[0;34mf\"Missing dependencies for {self._client_class.__name__}. You can install them \"\u001b[0m\u001b[0;34m\u001b[0m\u001b[0;34m\u001b[0m\u001b[0m\n\u001b[1;32m     78\u001b[0m                 \u001b[0;34mf\"with 'pip install cloudpathlib[{self.name}]'.\"\u001b[0m\u001b[0;34m\u001b[0m\u001b[0;34m\u001b[0m\u001b[0m\n",
            "\u001b[0;31mMissingDependenciesError\u001b[0m: Missing dependencies for S3Client. You can install them with 'pip install cloudpathlib[s3]'.",
            "",
            "\u001b[0;31m---------------------------------------------------------------------------\u001b[0;32m\nNOTE: If your import is failing due to a missing package, you can\nmanually install dependencies using either !pip or !apt.\n\nTo view examples of installing some common dependencies, click the\n\"Open Examples\" button below.\n\u001b[0;31m---------------------------------------------------------------------------\u001b[0m\n"
          ],
          "errorDetails": {
            "actions": [
              {
                "action": "open_url",
                "actionText": "Open Examples",
                "url": "/notebooks/snippets/importing_libraries.ipynb"
              }
            ]
          }
        },
        {
          "output_type": "display_data",
          "data": {
            "text/plain": [
              "<Figure size 1000x1000 with 3 Axes>"
            ],
            "image/png": "[encoded data removed]"
          },
          "metadata": {}
        }
      ]
    },
    {
      "cell_type": "code",
      "source": [
        "select_image"
      ],
      "metadata": {
        "id": "0eUBavbMyWMb"
      },
      "execution_count": null,
      "outputs": []
    },
    {
      "cell_type": "code",
      "source": [],
      "metadata": {
        "id": "-A96-0_pP-la"
      },
      "execution_count": null,
      "outputs": []
    }
  ]
}