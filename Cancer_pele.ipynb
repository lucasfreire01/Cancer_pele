{
  "nbformat": 4,
  "nbformat_minor": 0,
  "metadata": {
    "colab": {
      "provenance": [],
      "mount_file_id": "1n0cpRwmfOuRqa8XgDSQPk-WplmnjWkW7",
      "authorship_tag": "ABX9TyNvPUZdYYjmOzzx6aT5xvi9",
      "include_colab_link": true
    },
    "kernelspec": {
      "name": "python3",
      "display_name": "Python 3"
    },
    "language_info": {
      "name": "python"
    }
  },
  "cells": [
    {
      "cell_type": "markdown",
      "metadata": {
        "id": "view-in-github",
        "colab_type": "text"
      },
      "source": [
        "<a href=\"https://colab.research.google.com/github/lucasfreire01/Cancer_pele/blob/main/Cancer_pele.ipynb\" target=\"_parent\"><img src=\"https://colab.research.google.com/assets/colab-badge.svg\" alt=\"Open In Colab\"/></a>"
      ]
    },
    {
      "cell_type": "code",
      "source": [
        "!pip install cloudpathlib"
      ],
      "metadata": {
        "colab": {
          "base_uri": "https://localhost:8080/"
        },
        "id": "0o2K1l3GnhGI",
        "outputId": "fe56f955-5876-43d6-ef91-2068b459e73f"
      },
      "execution_count": 1,
      "outputs": [
        {
          "output_type": "stream",
          "name": "stdout",
          "text": [
            "Looking in indexes: https://pypi.org/simple, https://us-python.pkg.dev/colab-wheels/public/simple/\n",
            "Collecting cloudpathlib\n",
            "  Downloading cloudpathlib-0.13.0-py3-none-any.whl (47 kB)\n",
            "\u001b[2K     \u001b[90m━━━━━━━━━━━━━━━━━━━━━━━━━━━━━━━━━━━━━━━━\u001b[0m \u001b[32m47.6/47.6 kB\u001b[0m \u001b[31m2.7 MB/s\u001b[0m eta \u001b[36m0:00:00\u001b[0m\n",
            "\u001b[?25hInstalling collected packages: cloudpathlib\n",
            "Successfully installed cloudpathlib-0.13.0\n"
          ]
        }
      ]
    },
    {
      "cell_type": "code",
      "source": [
        "!pip install pyvips"
      ],
      "metadata": {
        "colab": {
          "base_uri": "https://localhost:8080/"
        },
        "id": "1E2hYqBDrUyR",
        "outputId": "68849d4e-f8b9-46ba-c606-c59993e7afde"
      },
      "execution_count": 2,
      "outputs": [
        {
          "output_type": "stream",
          "name": "stdout",
          "text": [
            "Looking in indexes: https://pypi.org/simple, https://us-python.pkg.dev/colab-wheels/public/simple/\n",
            "Collecting pyvips\n",
            "  Downloading pyvips-2.2.1.tar.gz (633 kB)\n",
            "\u001b[2K     \u001b[90m━━━━━━━━━━━━━━━━━━━━━━━━━━━━━━━━━━━━━━\u001b[0m \u001b[32m633.6/633.6 kB\u001b[0m \u001b[31m10.9 MB/s\u001b[0m eta \u001b[36m0:00:00\u001b[0m\n",
            "\u001b[?25h  Preparing metadata (setup.py) ... \u001b[?25l\u001b[?25hdone\n",
            "Requirement already satisfied: cffi>=1.0.0 in /usr/local/lib/python3.9/dist-packages (from pyvips) (1.15.1)\n",
            "Requirement already satisfied: pycparser in /usr/local/lib/python3.9/dist-packages (from cffi>=1.0.0->pyvips) (2.21)\n",
            "Building wheels for collected packages: pyvips\n",
            "  Building wheel for pyvips (setup.py) ... \u001b[?25l\u001b[?25hdone\n",
            "  Created wheel for pyvips: filename=pyvips-2.2.1-py2.py3-none-any.whl size=54194 sha256=508cc2987acad2572ab147c4f5efef9eab875296e777040a7145601854f78bf2\n",
            "  Stored in directory: /root/.cache/pip/wheels/cf/b8/f5/25f3202da9460cc789c5d232653d384474b3d10d829fa7002a\n",
            "Successfully built pyvips\n",
            "Installing collected packages: pyvips\n",
            "Successfully installed pyvips-2.2.1\n"
          ]
        }
      ]
    },
    {
      "cell_type": "code",
      "source": [
        "!apt list libvips"
      ],
      "metadata": {
        "colab": {
          "base_uri": "https://localhost:8080/"
        },
        "id": "hy41CzQnvhZR",
        "outputId": "8c4a3123-f88b-41a9-f45f-29cbbf4b1b1b"
      },
      "execution_count": 3,
      "outputs": [
        {
          "output_type": "stream",
          "name": "stdout",
          "text": [
            "\rListing... 0%\r\rListing... 0%\r\rListing... 0%\r\rListing... Done\r\n"
          ]
        }
      ]
    },
    {
      "cell_type": "code",
      "source": [
        "!pip install fsspec"
      ],
      "metadata": {
        "colab": {
          "base_uri": "https://localhost:8080/"
        },
        "id": "VuC64Brc0dzu",
        "outputId": "e05c98ee-a524-4af5-c142-e81375bd9c18"
      },
      "execution_count": 4,
      "outputs": [
        {
          "output_type": "stream",
          "name": "stdout",
          "text": [
            "Looking in indexes: https://pypi.org/simple, https://us-python.pkg.dev/colab-wheels/public/simple/\n",
            "Requirement already satisfied: fsspec in /usr/local/lib/python3.9/dist-packages (2023.4.0)\n"
          ]
        }
      ]
    },
    {
      "cell_type": "code",
      "source": [
        "!apt install libvips"
      ],
      "metadata": {
        "colab": {
          "base_uri": "https://localhost:8080/"
        },
        "id": "aOL5tEx_3vPY",
        "outputId": "e1476ae6-0c6a-46c7-d37c-68fd12b6350a"
      },
      "execution_count": 9,
      "outputs": [
        {
          "output_type": "stream",
          "name": "stdout",
          "text": [
            "Reading package lists... Done\n",
            "Building dependency tree       \n",
            "Reading state information... Done\n",
            "Note, selecting 'libvips42' instead of 'libvips'\n",
            "The following additional packages will be installed:\n",
            "  firefox fonts-droid-fallback fonts-noto-mono fonts-urw-base35 ghostscript\n",
            "  gsfonts imagemagick-6-common libdbus-glib-1-2 libdbusmenu-glib4\n",
            "  libdbusmenu-gtk3-4 libgail-common libgail18 libgs9 libgs9-common\n",
            "  libgsf-1-114 libgsf-1-common libgsl23 libgslcblas0 libgtk2.0-0 libgtk2.0-bin\n",
            "  libgtk2.0-common libidn11 libijs-0.35 libimagequant0 libjbig2dec0 liblqr-1-0\n",
            "  libmagickcore-6.q16-6 libmatio9 libopenslide0 libpoppler-glib8 libxtst6 nip2\n",
            "  poppler-data xul-ext-ubufox\n",
            "Suggested packages:\n",
            "  fonts-lyx fonts-noto fonts-freefont-otf | fonts-freefont-ttf fonts-texgyre\n",
            "  ghostscript-x gsl-ref-psdoc | gsl-doc-pdf | gsl-doc-info | gsl-ref-html gvfs\n",
            "  libmagickcore-6.q16-6-extra libvips-doc libvips-tools poppler-utils\n",
            "  fonts-japanese-mincho | fonts-ipafont-mincho fonts-japanese-gothic\n",
            "  | fonts-ipafont-gothic fonts-arphic-ukai fonts-arphic-uming fonts-nanum\n",
            "The following NEW packages will be installed:\n",
            "  firefox fonts-droid-fallback fonts-noto-mono fonts-urw-base35 ghostscript\n",
            "  gsfonts imagemagick-6-common libdbus-glib-1-2 libdbusmenu-glib4\n",
            "  libdbusmenu-gtk3-4 libgail-common libgail18 libgs9 libgs9-common\n",
            "  libgsf-1-114 libgsf-1-common libgsl23 libgslcblas0 libgtk2.0-0 libgtk2.0-bin\n",
            "  libgtk2.0-common libidn11 libijs-0.35 libimagequant0 libjbig2dec0 liblqr-1-0\n",
            "  libmagickcore-6.q16-6 libmatio9 libopenslide0 libpoppler-glib8 libvips42\n",
            "  libxtst6 nip2 poppler-data xul-ext-ubufox\n",
            "0 upgraded, 35 newly installed, 0 to remove and 24 not upgraded.\n",
            "Need to get 87.5 MB of archives.\n",
            "After this operation, 338 MB of additional disk space will be used.\n",
            "Get:1 http://archive.ubuntu.com/ubuntu focal/main amd64 fonts-droid-fallback all 1:6.0.1r16-1.1 [1,805 kB]\n",
            "Get:2 http://archive.ubuntu.com/ubuntu focal/universe amd64 liblqr-1-0 amd64 0.4.2-2.1 [27.7 kB]\n",
            "Get:3 http://archive.ubuntu.com/ubuntu focal-updates/universe amd64 imagemagick-6-common all 8:6.9.10.23+dfsg-2.1ubuntu11.7 [61.0 kB]\n",
            "Get:4 http://archive.ubuntu.com/ubuntu focal-updates/universe amd64 libmagickcore-6.q16-6 amd64 8:6.9.10.23+dfsg-2.1ubuntu11.7 [1,647 kB]\n",
            "Get:5 http://archive.ubuntu.com/ubuntu focal/main amd64 poppler-data all 0.4.9-2 [1,475 kB]\n",
            "Get:6 http://archive.ubuntu.com/ubuntu focal/main amd64 libdbus-glib-1-2 amd64 0.110-5fakssync1 [59.1 kB]\n",
            "Get:7 http://archive.ubuntu.com/ubuntu focal/main amd64 libxtst6 amd64 2:1.2.3-1 [12.8 kB]\n",
            "Get:8 http://archive.ubuntu.com/ubuntu focal-updates/main amd64 firefox amd64 112.0.1+build1-0ubuntu0.20.04.1 [60.7 MB]\n",
            "Get:9 http://archive.ubuntu.com/ubuntu focal-updates/main amd64 fonts-noto-mono all 20200323-1build1~ubuntu20.04.1 [80.6 kB]\n",
            "Get:10 http://archive.ubuntu.com/ubuntu focal/main amd64 fonts-urw-base35 all 20170801.1-3 [6,333 kB]\n",
            "Get:11 http://archive.ubuntu.com/ubuntu focal-updates/main amd64 libgs9-common all 9.50~dfsg-5ubuntu4.7 [681 kB]\n",
            "Get:12 http://archive.ubuntu.com/ubuntu focal/main amd64 libidn11 amd64 1.33-2.2ubuntu2 [46.2 kB]\n",
            "Get:13 http://archive.ubuntu.com/ubuntu focal/main amd64 libijs-0.35 amd64 0.35-15 [15.7 kB]\n",
            "Get:14 http://archive.ubuntu.com/ubuntu focal/main amd64 libjbig2dec0 amd64 0.18-1ubuntu1 [60.0 kB]\n",
            "Get:15 http://archive.ubuntu.com/ubuntu focal-updates/main amd64 libgs9 amd64 9.50~dfsg-5ubuntu4.7 [2,173 kB]\n",
            "Get:16 http://archive.ubuntu.com/ubuntu focal-updates/main amd64 ghostscript amd64 9.50~dfsg-5ubuntu4.7 [51.9 kB]\n",
            "Get:17 http://archive.ubuntu.com/ubuntu focal/universe amd64 gsfonts all 1:8.11+urwcyr1.0.7~pre44-4.4 [3,120 kB]\n",
            "Get:18 http://archive.ubuntu.com/ubuntu focal/main amd64 libdbusmenu-glib4 amd64 16.04.1+18.10.20180917-0ubuntu6 [41.2 kB]\n",
            "Get:19 http://archive.ubuntu.com/ubuntu focal/main amd64 libdbusmenu-gtk3-4 amd64 16.04.1+18.10.20180917-0ubuntu6 [27.7 kB]\n",
            "Get:20 http://archive.ubuntu.com/ubuntu focal/main amd64 libgtk2.0-common all 2.24.32-4ubuntu4 [126 kB]\n",
            "Get:21 http://archive.ubuntu.com/ubuntu focal/main amd64 libgtk2.0-0 amd64 2.24.32-4ubuntu4 [1,791 kB]\n",
            "Get:22 http://archive.ubuntu.com/ubuntu focal/main amd64 libgail18 amd64 2.24.32-4ubuntu4 [14.7 kB]\n",
            "Get:23 http://archive.ubuntu.com/ubuntu focal/main amd64 libgail-common amd64 2.24.32-4ubuntu4 [116 kB]\n",
            "Get:24 http://archive.ubuntu.com/ubuntu focal/main amd64 libgsf-1-common all 1.14.46-1 [12.7 kB]\n",
            "Get:25 http://archive.ubuntu.com/ubuntu focal/main amd64 libgsf-1-114 amd64 1.14.46-1 [98.3 kB]\n",
            "Get:26 http://archive.ubuntu.com/ubuntu focal/universe amd64 libgslcblas0 amd64 2.5+dfsg-6build1 [84.6 kB]\n",
            "Get:27 http://archive.ubuntu.com/ubuntu focal/universe amd64 libgsl23 amd64 2.5+dfsg-6build1 [850 kB]\n",
            "Get:28 http://archive.ubuntu.com/ubuntu focal/main amd64 libgtk2.0-bin amd64 2.24.32-4ubuntu4 [7,728 B]\n",
            "Get:29 http://archive.ubuntu.com/ubuntu focal/main amd64 libimagequant0 amd64 2.12.2-1.1 [31.4 kB]\n",
            "Get:30 http://archive.ubuntu.com/ubuntu focal/universe amd64 libmatio9 amd64 1.5.17-3 [93.6 kB]\n",
            "Get:31 http://archive.ubuntu.com/ubuntu focal/universe amd64 libopenslide0 amd64 3.4.1+dfsg-4 [82.1 kB]\n",
            "Get:32 http://archive.ubuntu.com/ubuntu focal-updates/main amd64 libpoppler-glib8 amd64 0.86.1-0ubuntu1.1 [109 kB]\n",
            "Get:33 http://archive.ubuntu.com/ubuntu focal/universe amd64 libvips42 amd64 8.9.1-2 [1,040 kB]\n",
            "Get:34 http://archive.ubuntu.com/ubuntu focal/universe amd64 nip2 amd64 8.7.0-1 [4,609 kB]\n",
            "Get:35 http://archive.ubuntu.com/ubuntu focal/main amd64 xul-ext-ubufox all 3.4-0ubuntu1.17.10.1 [3,320 B]\n",
            "Fetched 87.5 MB in 2min 43s (537 kB/s)\n",
            "Extracting templates from packages: 100%\n",
            "Selecting previously unselected package fonts-droid-fallback.\n",
            "(Reading database ... 122400 files and directories currently installed.)\n",
            "Preparing to unpack .../00-fonts-droid-fallback_1%3a6.0.1r16-1.1_all.deb ...\n",
            "Unpacking fonts-droid-fallback (1:6.0.1r16-1.1) ...\n",
            "Selecting previously unselected package liblqr-1-0:amd64.\n",
            "Preparing to unpack .../01-liblqr-1-0_0.4.2-2.1_amd64.deb ...\n",
            "Unpacking liblqr-1-0:amd64 (0.4.2-2.1) ...\n",
            "Selecting previously unselected package imagemagick-6-common.\n",
            "Preparing to unpack .../02-imagemagick-6-common_8%3a6.9.10.23+dfsg-2.1ubuntu11.7_all.deb ...\n",
            "Unpacking imagemagick-6-common (8:6.9.10.23+dfsg-2.1ubuntu11.7) ...\n",
            "Selecting previously unselected package libmagickcore-6.q16-6:amd64.\n",
            "Preparing to unpack .../03-libmagickcore-6.q16-6_8%3a6.9.10.23+dfsg-2.1ubuntu11.7_amd64.deb ...\n",
            "Unpacking libmagickcore-6.q16-6:amd64 (8:6.9.10.23+dfsg-2.1ubuntu11.7) ...\n",
            "Selecting previously unselected package poppler-data.\n",
            "Preparing to unpack .../04-poppler-data_0.4.9-2_all.deb ...\n",
            "Unpacking poppler-data (0.4.9-2) ...\n",
            "Selecting previously unselected package libdbus-glib-1-2:amd64.\n",
            "Preparing to unpack .../05-libdbus-glib-1-2_0.110-5fakssync1_amd64.deb ...\n",
            "Unpacking libdbus-glib-1-2:amd64 (0.110-5fakssync1) ...\n",
            "Selecting previously unselected package libxtst6:amd64.\n",
            "Preparing to unpack .../06-libxtst6_2%3a1.2.3-1_amd64.deb ...\n",
            "Unpacking libxtst6:amd64 (2:1.2.3-1) ...\n",
            "Selecting previously unselected package firefox.\n",
            "Preparing to unpack .../07-firefox_112.0.1+build1-0ubuntu0.20.04.1_amd64.deb ...\n",
            "Unpacking firefox (112.0.1+build1-0ubuntu0.20.04.1) ...\n",
            "Selecting previously unselected package fonts-noto-mono.\n",
            "Preparing to unpack .../08-fonts-noto-mono_20200323-1build1~ubuntu20.04.1_all.deb ...\n",
            "Unpacking fonts-noto-mono (20200323-1build1~ubuntu20.04.1) ...\n",
            "Selecting previously unselected package fonts-urw-base35.\n",
            "Preparing to unpack .../09-fonts-urw-base35_20170801.1-3_all.deb ...\n",
            "Unpacking fonts-urw-base35 (20170801.1-3) ...\n",
            "Selecting previously unselected package libgs9-common.\n",
            "Preparing to unpack .../10-libgs9-common_9.50~dfsg-5ubuntu4.7_all.deb ...\n",
            "Unpacking libgs9-common (9.50~dfsg-5ubuntu4.7) ...\n",
            "Selecting previously unselected package libidn11:amd64.\n",
            "Preparing to unpack .../11-libidn11_1.33-2.2ubuntu2_amd64.deb ...\n",
            "Unpacking libidn11:amd64 (1.33-2.2ubuntu2) ...\n",
            "Selecting previously unselected package libijs-0.35:amd64.\n",
            "Preparing to unpack .../12-libijs-0.35_0.35-15_amd64.deb ...\n",
            "Unpacking libijs-0.35:amd64 (0.35-15) ...\n",
            "Selecting previously unselected package libjbig2dec0:amd64.\n",
            "Preparing to unpack .../13-libjbig2dec0_0.18-1ubuntu1_amd64.deb ...\n",
            "Unpacking libjbig2dec0:amd64 (0.18-1ubuntu1) ...\n",
            "Selecting previously unselected package libgs9:amd64.\n",
            "Preparing to unpack .../14-libgs9_9.50~dfsg-5ubuntu4.7_amd64.deb ...\n",
            "Unpacking libgs9:amd64 (9.50~dfsg-5ubuntu4.7) ...\n",
            "Selecting previously unselected package ghostscript.\n",
            "Preparing to unpack .../15-ghostscript_9.50~dfsg-5ubuntu4.7_amd64.deb ...\n",
            "Unpacking ghostscript (9.50~dfsg-5ubuntu4.7) ...\n",
            "Selecting previously unselected package gsfonts.\n",
            "Preparing to unpack .../16-gsfonts_1%3a8.11+urwcyr1.0.7~pre44-4.4_all.deb ...\n",
            "Unpacking gsfonts (1:8.11+urwcyr1.0.7~pre44-4.4) ...\n",
            "Selecting previously unselected package libdbusmenu-glib4:amd64.\n",
            "Preparing to unpack .../17-libdbusmenu-glib4_16.04.1+18.10.20180917-0ubuntu6_amd64.deb ...\n",
            "Unpacking libdbusmenu-glib4:amd64 (16.04.1+18.10.20180917-0ubuntu6) ...\n",
            "Selecting previously unselected package libdbusmenu-gtk3-4:amd64.\n",
            "Preparing to unpack .../18-libdbusmenu-gtk3-4_16.04.1+18.10.20180917-0ubuntu6_amd64.deb ...\n",
            "Unpacking libdbusmenu-gtk3-4:amd64 (16.04.1+18.10.20180917-0ubuntu6) ...\n",
            "Selecting previously unselected package libgtk2.0-common.\n",
            "Preparing to unpack .../19-libgtk2.0-common_2.24.32-4ubuntu4_all.deb ...\n",
            "Unpacking libgtk2.0-common (2.24.32-4ubuntu4) ...\n",
            "Selecting previously unselected package libgtk2.0-0:amd64.\n",
            "Preparing to unpack .../20-libgtk2.0-0_2.24.32-4ubuntu4_amd64.deb ...\n",
            "Unpacking libgtk2.0-0:amd64 (2.24.32-4ubuntu4) ...\n",
            "Selecting previously unselected package libgail18:amd64.\n",
            "Preparing to unpack .../21-libgail18_2.24.32-4ubuntu4_amd64.deb ...\n",
            "Unpacking libgail18:amd64 (2.24.32-4ubuntu4) ...\n",
            "Selecting previously unselected package libgail-common:amd64.\n",
            "Preparing to unpack .../22-libgail-common_2.24.32-4ubuntu4_amd64.deb ...\n",
            "Unpacking libgail-common:amd64 (2.24.32-4ubuntu4) ...\n",
            "Selecting previously unselected package libgsf-1-common.\n",
            "Preparing to unpack .../23-libgsf-1-common_1.14.46-1_all.deb ...\n",
            "Unpacking libgsf-1-common (1.14.46-1) ...\n",
            "Selecting previously unselected package libgsf-1-114:amd64.\n",
            "Preparing to unpack .../24-libgsf-1-114_1.14.46-1_amd64.deb ...\n",
            "Unpacking libgsf-1-114:amd64 (1.14.46-1) ...\n",
            "Selecting previously unselected package libgslcblas0:amd64.\n",
            "Preparing to unpack .../25-libgslcblas0_2.5+dfsg-6build1_amd64.deb ...\n",
            "Unpacking libgslcblas0:amd64 (2.5+dfsg-6build1) ...\n",
            "Selecting previously unselected package libgsl23:amd64.\n",
            "Preparing to unpack .../26-libgsl23_2.5+dfsg-6build1_amd64.deb ...\n",
            "Unpacking libgsl23:amd64 (2.5+dfsg-6build1) ...\n",
            "Selecting previously unselected package libgtk2.0-bin.\n",
            "Preparing to unpack .../27-libgtk2.0-bin_2.24.32-4ubuntu4_amd64.deb ...\n",
            "Unpacking libgtk2.0-bin (2.24.32-4ubuntu4) ...\n",
            "Selecting previously unselected package libimagequant0:amd64.\n",
            "Preparing to unpack .../28-libimagequant0_2.12.2-1.1_amd64.deb ...\n",
            "Unpacking libimagequant0:amd64 (2.12.2-1.1) ...\n",
            "Selecting previously unselected package libmatio9:amd64.\n",
            "Preparing to unpack .../29-libmatio9_1.5.17-3_amd64.deb ...\n",
            "Unpacking libmatio9:amd64 (1.5.17-3) ...\n",
            "Selecting previously unselected package libopenslide0.\n",
            "Preparing to unpack .../30-libopenslide0_3.4.1+dfsg-4_amd64.deb ...\n",
            "Unpacking libopenslide0 (3.4.1+dfsg-4) ...\n",
            "Selecting previously unselected package libpoppler-glib8:amd64.\n",
            "Preparing to unpack .../31-libpoppler-glib8_0.86.1-0ubuntu1.1_amd64.deb ...\n",
            "Unpacking libpoppler-glib8:amd64 (0.86.1-0ubuntu1.1) ...\n",
            "Selecting previously unselected package libvips42:amd64.\n",
            "Preparing to unpack .../32-libvips42_8.9.1-2_amd64.deb ...\n",
            "Unpacking libvips42:amd64 (8.9.1-2) ...\n",
            "Selecting previously unselected package nip2.\n",
            "Preparing to unpack .../33-nip2_8.7.0-1_amd64.deb ...\n",
            "Unpacking nip2 (8.7.0-1) ...\n",
            "Selecting previously unselected package xul-ext-ubufox.\n",
            "Preparing to unpack .../34-xul-ext-ubufox_3.4-0ubuntu1.17.10.1_all.deb ...\n",
            "Unpacking xul-ext-ubufox (3.4-0ubuntu1.17.10.1) ...\n",
            "Setting up libgsf-1-common (1.14.46-1) ...\n",
            "Setting up imagemagick-6-common (8:6.9.10.23+dfsg-2.1ubuntu11.7) ...\n",
            "Setting up libpoppler-glib8:amd64 (0.86.1-0ubuntu1.1) ...\n",
            "Setting up fonts-noto-mono (20200323-1build1~ubuntu20.04.1) ...\n",
            "Setting up libgslcblas0:amd64 (2.5+dfsg-6build1) ...\n",
            "Setting up libxtst6:amd64 (2:1.2.3-1) ...\n",
            "Setting up libijs-0.35:amd64 (0.35-15) ...\n",
            "Setting up libdbusmenu-glib4:amd64 (16.04.1+18.10.20180917-0ubuntu6) ...\n",
            "Setting up fonts-urw-base35 (20170801.1-3) ...\n",
            "Setting up poppler-data (0.4.9-2) ...\n",
            "Setting up libgsf-1-114:amd64 (1.14.46-1) ...\n",
            "Setting up libmatio9:amd64 (1.5.17-3) ...\n",
            "Setting up libjbig2dec0:amd64 (0.18-1ubuntu1) ...\n",
            "Setting up libidn11:amd64 (1.33-2.2ubuntu2) ...\n",
            "Setting up libgsl23:amd64 (2.5+dfsg-6build1) ...\n",
            "Setting up libdbus-glib-1-2:amd64 (0.110-5fakssync1) ...\n",
            "Setting up gsfonts (1:8.11+urwcyr1.0.7~pre44-4.4) ...\n",
            "Setting up libimagequant0:amd64 (2.12.2-1.1) ...\n",
            "Setting up liblqr-1-0:amd64 (0.4.2-2.1) ...\n",
            "Setting up libgtk2.0-common (2.24.32-4ubuntu4) ...\n",
            "Setting up fonts-droid-fallback (1:6.0.1r16-1.1) ...\n",
            "Setting up xul-ext-ubufox (3.4-0ubuntu1.17.10.1) ...\n",
            "Setting up libopenslide0 (3.4.1+dfsg-4) ...\n",
            "Setting up libgs9-common (9.50~dfsg-5ubuntu4.7) ...\n",
            "Setting up libdbusmenu-gtk3-4:amd64 (16.04.1+18.10.20180917-0ubuntu6) ...\n",
            "Setting up libgs9:amd64 (9.50~dfsg-5ubuntu4.7) ...\n",
            "Setting up firefox (112.0.1+build1-0ubuntu0.20.04.1) ...\n",
            "update-alternatives: using /usr/bin/firefox to provide /usr/bin/gnome-www-browser (gnome-www-browser) in auto mode\n",
            "update-alternatives: using /usr/bin/firefox to provide /usr/bin/x-www-browser (x-www-browser) in auto mode\n",
            "Please restart all running instances of firefox, or you will experience problems.\n",
            "Setting up libgtk2.0-0:amd64 (2.24.32-4ubuntu4) ...\n",
            "Setting up ghostscript (9.50~dfsg-5ubuntu4.7) ...\n",
            "Setting up libmagickcore-6.q16-6:amd64 (8:6.9.10.23+dfsg-2.1ubuntu11.7) ...\n",
            "Setting up libgail18:amd64 (2.24.32-4ubuntu4) ...\n",
            "Setting up libgtk2.0-bin (2.24.32-4ubuntu4) ...\n",
            "Setting up libvips42:amd64 (8.9.1-2) ...\n",
            "Setting up nip2 (8.7.0-1) ...\n",
            "Setting up libgail-common:amd64 (2.24.32-4ubuntu4) ...\n",
            "Processing triggers for man-db (2.9.1-1) ...\n",
            "Processing triggers for shared-mime-info (1.15-1) ...\n",
            "Processing triggers for fontconfig (2.13.1-2ubuntu3) ...\n",
            "Processing triggers for mime-support (3.64ubuntu1) ...\n",
            "Processing triggers for hicolor-icon-theme (0.17-2) ...\n",
            "Processing triggers for libc-bin (2.31-0ubuntu9.9) ...\n"
          ]
        }
      ]
    },
    {
      "cell_type": "code",
      "execution_count": 10,
      "metadata": {
        "id": "faXvVt_4jaAF"
      },
      "outputs": [],
      "source": [
        "import pandas as pd\n",
        "import numpy as np\n",
        "from cloudpathlib import S3Path\n",
        "import matplotlib.pyplot as plt\n",
        "import pyvips\n",
        "from PIL import Image"
      ]
    },
    {
      "cell_type": "code",
      "source": [
        "Image.MAX_IMAGE_PIXELS = None"
      ],
      "metadata": {
        "id": "5UFpECfr1t87"
      },
      "execution_count": null,
      "outputs": []
    },
    {
      "cell_type": "code",
      "source": [
        "train = pd.read_csv('/content/drive/MyDrive/Cancer_pele/train_metadata_pPa7YD3.csv', index_col=\"filename\")\n",
        "train"
      ],
      "metadata": {
        "id": "EZS6djhfkTvA"
      },
      "execution_count": null,
      "outputs": []
    },
    {
      "cell_type": "code",
      "source": [
        "train_labels = pd.read_csv('/content/drive/MyDrive/Cancer_pele/train_labels.csv', index_col=\"filename\")\n",
        "train_labels"
      ],
      "metadata": {
        "id": "z8TLV4zVk35z"
      },
      "execution_count": null,
      "outputs": []
    },
    {
      "cell_type": "code",
      "source": [
        "train_labels.relapse.value_counts(dropna=False)"
      ],
      "metadata": {
        "id": "eZ7FHUje5DDs"
      },
      "execution_count": null,
      "outputs": []
    },
    {
      "cell_type": "code",
      "source": [
        "SEED = 42\n",
        "NUM_IMAGES = 3\n",
        "selected_image_paths = train.sample(\n",
        "    random_state=SEED, n=NUM_IMAGES\n",
        ").us_tif_url.values"
      ],
      "metadata": {
        "id": "-Uc50xSnli9n"
      },
      "execution_count": null,
      "outputs": []
    },
    {
      "cell_type": "code",
      "source": [
        "def visualize_page(page_num, image_paths):\n",
        "    fig, axes = plt.subplots(1, len(image_paths), figsize=(10, 10))\n",
        "    fig.tight_layout()\n",
        "\n",
        "    for n, image_s3_path in enumerate(image_paths):\n",
        "        fname = S3Path(image_s3_path).name\n",
        "        print(f\"Downloading {fname}\")\n",
        "        local_file = S3Path(image_s3_path).fspath\n",
        "\n",
        "        n_frames = Image.open(local_file).n_frames\n",
        "        img = pyvips.Image.new_from_file(local_file, page=page_num).numpy()\n",
        "\n",
        "        axes[n].set_title(f\"{fname}, page={page_num}\\n {img.shape}\\n\")\n",
        "        axes[n].imshow(img)"
      ],
      "metadata": {
        "id": "3PgNM2CWnuOJ"
      },
      "execution_count": null,
      "outputs": []
    },
    {
      "cell_type": "code",
      "source": [
        "visualize_page(3, selected_image_paths)"
      ],
      "metadata": {
        "id": "4VcBfebaxwJr"
      },
      "execution_count": null,
      "outputs": []
    },
    {
      "cell_type": "code",
      "source": [
        "select_image"
      ],
      "metadata": {
        "id": "0eUBavbMyWMb"
      },
      "execution_count": null,
      "outputs": []
    },
    {
      "cell_type": "code",
      "source": [],
      "metadata": {
        "id": "-A96-0_pP-la"
      },
      "execution_count": null,
      "outputs": []
    }
  ]
}